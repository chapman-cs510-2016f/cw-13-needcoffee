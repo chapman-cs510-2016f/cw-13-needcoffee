{
 "cells": [
  {
   "cell_type": "markdown",
   "metadata": {},
   "source": [
    "# Matrices in `C++`\n",
    "## Alexis Ford and Afnan Alqahtani\n",
    "### `Matrix` class\n",
    "#### Overview\n",
    "The `Matrix` class is defined using templates so it can hold any data type, and is based on vectors, which can have dynamic size that does not necesitate the use of dynamically allocated arrays. A `Matrix` consists of a vector of vectors called `mat`, which holds the actual elements of the matrix, as well as two `unsigned int`s called `rows` and `cols`, which keep track of the dimensions of the matrix. The class contains a default constructor, which creates a matrix of the specified dimensions (`_rows` and `_cols`) and initializes all of the elements of the matrix to all one value (`_initial`) of the type specified (`T`).  \n",
    "  \n",
    "The class uses explicit memory management and follows the Rule of Three, so it contains a copy constructor, a destructor, and an assignment operator. There is also a function that overloads `+` and takes a `Matrix`, a selection operator to access elements, and accessor methods for `rows` and `cols`.  \n",
    "  \n",
    "#### Implementation\n",
    "The constructor takes advantage of the `std::vector` by resizing the rows and columns of `mat` to match the dimensions `rows` and `cols`. Since the `Matrix` is a vector of vectors, a `for` loop is used to resize each internal vector so it corresponds to the correct dimension (`cols`); each element of the `Matrix` is also initialized to `_initial` in this loop. After the loop, the private fields are set as well.  \n",
    "  \n",
    "The copy constructor simply sets the each of the fields of the newly created `Matrix` equal to the fields of the `Matrix rhs`. The assignment operator returns a reference to the modified object. If the `Matrix` is being assigned to itself, it simply returns a reference to itself. Otherwise, the fields are set to match those of `rhs`, and `mat` is set based on the fields (`rows` and `cols` are used to resize the vectors to the correct dimensions) and by assigning each element indiviaudally with a nested `for` loop. Then the modified `Matrix` is returned.  \n",
    "  \n",
    "There are two element accessors, one that allows reading and writing, and one that keeps the values constant and is read only. They both return the specified element by accessing the vector of vectors `mat` with array accessor syntax `[][]`. The two getters simply return the `rows` or `cols` of the current instance. Lastly, the `+` operator is overloaded to take two `Matrix` objects and add element-by-element, as in regualr matrix addition. It returns a `Matrix` that is the result of the the addition.  \n",
    "  \n",
    "### Templates\n",
    "A template is a tool for making a class more general. Whereas in `C` we were limited to making a stack of only integers or only floats, templates allow an arbitrary type T to be passed into a class as a parameter, so a single class definition can apply to different types. For example, templating our `Matrix` class allows us to create matrices of `int`s, `float`s, `string`s, or any other type, predefined or user defined."
   ]
  }
 ],
 "metadata": {
  "anaconda-cloud": {},
  "kernelspec": {
   "display_name": "Python [default]",
   "language": "python",
   "name": "python3"
  },
  "language_info": {
   "codemirror_mode": {
    "name": "ipython",
    "version": 3
   },
   "file_extension": ".py",
   "mimetype": "text/x-python",
   "name": "python",
   "nbconvert_exporter": "python",
   "pygments_lexer": "ipython3",
   "version": "3.5.2"
  }
 },
 "nbformat": 4,
 "nbformat_minor": 1
}
