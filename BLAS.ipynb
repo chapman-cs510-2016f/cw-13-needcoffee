{
 "cells": [
  {
   "cell_type": "markdown",
   "metadata": {},
   "source": [
    "# Examine the source code blas\n"
   ]
  },
  {
   "cell_type": "markdown",
   "metadata": {},
   "source": [
    "## Afnan Alqahtani and Alexis Ford\n",
    "Dec 3,2016"
   ]
  },
  {
   "cell_type": "markdown",
   "metadata": {},
   "source": [
    "### Explain the code in detail. How does this code compare in complexity to the code you wrote for Stack and Queue? :\n"
   ]
  },
  {
   "cell_type": "markdown",
   "metadata": {},
   "source": [
    "At the beginning of the code we exploit namespaces to shorten code by using ```\"Using-declaration\"``` to introduce namespace members into other namespaces and block scopes. Then declare three 3x3 matrices of complex numbers ```\"m\"```, ```\"n\"```, and ```\"o\"``` with long double elements. After that we have two for loop iterating over the 3x3 matrices. Starting with the outer loop \"row index\" then inner loop \"column index\" So by this it will loop throw the rows first then the column elements. For the first matrix ```m(r,c) = 3 * r + c;``` its 3 multiply by the index row + the index column. The second matrix its for complex number ```n(r,c) = r + c * 1i;```. The last matrix ```o(r,c) = std::pow(n(r,c), 2);``` its for squaring the matrix ```\"n\"```. \n",
    "\n",
    "Comparing this code by the old one \"Stack and Queue\" this one much clear and easier to follow. Since we don’t have to create our own class the ```matrix std::complex``` taking care of the memory management.\n",
    "\n"
   ]
  },
  {
   "cell_type": "markdown",
   "metadata": {},
   "source": [
    "### Explain what the notation < type > means in, e.g., complex < long double >."
   ]
  },
  {
   "cell_type": "markdown",
   "metadata": {},
   "source": [
    "The notation using tamplate. It means the complex number hold long double type."
   ]
  },
  {
   "cell_type": "markdown",
   "metadata": {},
   "source": [
    "### Are BLAS matrices row-major or column-major? How can you tell based on how the code is written?"
   ]
  },
  {
   "cell_type": "markdown",
   "metadata": {
    "collapsed": false
   },
   "source": [
    "The BLAS matrices are in row major. we can tell based on how the code was writtin. Its start with the row index in the first foor loop. ```for (unsigned r = 0; r < m.size1(); r++)``"
   ]
  },
  {
   "cell_type": "markdown",
   "metadata": {},
   "source": [
    "### Write a new program that uses BLAS to create a complex plane in a similar way to your python code from before. \n",
    "### Print the resulting matrix of complex numbers to the screen in a pretty way to demonstrate that your code works."
   ]
  }
 ],
 "metadata": {
  "kernelspec": {
   "display_name": "Python 2 (SageMath)",
   "language": "python",
   "name": "python2"
  },
  "language_info": {
   "codemirror_mode": {
    "name": "ipython",
    "version": 2
   },
   "file_extension": ".py",
   "mimetype": "text/x-python",
   "name": "python",
   "nbconvert_exporter": "python",
   "pygments_lexer": "ipython2",
   "version": "2.7.10"
  }
 },
 "nbformat": 4,
 "nbformat_minor": 0
}
